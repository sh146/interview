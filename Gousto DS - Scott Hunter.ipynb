{
 "cells": [
  {
   "cell_type": "markdown",
   "metadata": {},
   "source": [
    "# Gousto - Data Science Task\n",
    "##### _Scott Hunter - 12/01/2020_"
   ]
  },
  {
   "cell_type": "markdown",
   "metadata": {},
   "source": [
    "#### Quick exploratory data analysis"
   ]
  },
  {
   "cell_type": "markdown",
   "metadata": {},
   "source": [
    "##### __Step 1:__ _Load dependencies and set display options_"
   ]
  },
  {
   "cell_type": "code",
   "execution_count": 1,
   "metadata": {},
   "outputs": [],
   "source": [
    "import pandas as pd\n",
    "import numpy as np\n",
    "from sklearn.feature_extraction.text import CountVectorizer, TfidfVectorizer, HashingVectorizer\n",
    "from matplotlib import pyplot as plt"
   ]
  },
  {
   "cell_type": "code",
   "execution_count": 2,
   "metadata": {},
   "outputs": [],
   "source": [
    "pd.set_option('display.max_columns', 10)\n",
    "pd.set_option('display.max_rows', None)"
   ]
  },
  {
   "cell_type": "markdown",
   "metadata": {},
   "source": [
    "##### __Step 2:__ _Read in the SIMILARITY SCORE data as a pandas dataframe_"
   ]
  },
  {
   "cell_type": "code",
   "execution_count": 3,
   "metadata": {},
   "outputs": [
    {
     "name": "stdout",
     "output_type": "stream",
     "text": [
      "user_id       0\n",
      "message_ts    0\n",
      "action_ts     0\n",
      "recipe_a      0\n",
      "recipe_b      0\n",
      "score         0\n",
      "dtype: int64\n",
      "            user_id     recipe_a     recipe_b        score\n",
      "count   4338.000000  4338.000000  4338.000000  4338.000000\n",
      "mean   10125.821116   392.556708   397.141079     1.590595\n",
      "std       49.068311   161.032945   158.554734     0.834314\n",
      "min    10001.000000     2.000000     2.000000     1.000000\n",
      "25%    10127.000000   292.000000   292.000000     1.000000\n",
      "50%    10141.000000   449.000000   449.000000     1.000000\n",
      "75%    10145.000000   546.000000   546.000000     2.000000\n",
      "max    10163.000000   590.000000   592.000000     4.000000\n"
     ]
    }
   ],
   "source": [
    "# Check for empty values\n",
    "similarity_scores = pd.read_csv('.../similarity_scores.csv')\n",
    "print(similarity_scores.isnull().sum())\n",
    "print(similarity_scores.describe())"
   ]
  },
  {
   "cell_type": "code",
   "execution_count": 4,
   "metadata": {},
   "outputs": [],
   "source": [
    "# Set arbitrary scalar values to use in re-weighting equation\n",
    "scalar = {1 : -0.67, 2 : -0.33, 3 : 0.33, 4 : 0.66}     \n",
    "similarity_scores['scalar'] = similarity_scores['score'].map(scalar)"
   ]
  },
  {
   "cell_type": "code",
   "execution_count": 5,
   "metadata": {},
   "outputs": [],
   "source": [
    "# Derive score response 'labels' to use in re-weighting equation\n",
    "response = {1 : 'very negative', 2 : 'negative', 3 : 'positive', 4 : 'very positive'}     \n",
    "similarity_scores['response'] = similarity_scores['score'].map(response)"
   ]
  },
  {
   "cell_type": "code",
   "execution_count": 6,
   "metadata": {},
   "outputs": [
    {
     "data": {
      "text/html": [
       "<div>\n",
       "<style scoped>\n",
       "    .dataframe tbody tr th:only-of-type {\n",
       "        vertical-align: middle;\n",
       "    }\n",
       "\n",
       "    .dataframe tbody tr th {\n",
       "        vertical-align: top;\n",
       "    }\n",
       "\n",
       "    .dataframe thead th {\n",
       "        text-align: right;\n",
       "    }\n",
       "</style>\n",
       "<table border=\"1\" class=\"dataframe\">\n",
       "  <thead>\n",
       "    <tr style=\"text-align: right;\">\n",
       "      <th></th>\n",
       "      <th>user_id</th>\n",
       "      <th>message_ts</th>\n",
       "      <th>action_ts</th>\n",
       "      <th>recipe_a</th>\n",
       "      <th>recipe_b</th>\n",
       "      <th>score</th>\n",
       "      <th>scalar</th>\n",
       "      <th>response</th>\n",
       "    </tr>\n",
       "  </thead>\n",
       "  <tbody>\n",
       "    <tr>\n",
       "      <th>0</th>\n",
       "      <td>10141</td>\n",
       "      <td>28/07/2016 15:22</td>\n",
       "      <td>28/07/2016 16:32</td>\n",
       "      <td>548</td>\n",
       "      <td>292</td>\n",
       "      <td>2</td>\n",
       "      <td>-0.33</td>\n",
       "      <td>negative</td>\n",
       "    </tr>\n",
       "    <tr>\n",
       "      <th>1</th>\n",
       "      <td>10163</td>\n",
       "      <td>11/08/2016 12:06</td>\n",
       "      <td>11/08/2016 12:08</td>\n",
       "      <td>584</td>\n",
       "      <td>288</td>\n",
       "      <td>1</td>\n",
       "      <td>-0.67</td>\n",
       "      <td>very negative</td>\n",
       "    </tr>\n",
       "    <tr>\n",
       "      <th>2</th>\n",
       "      <td>10163</td>\n",
       "      <td>15/08/2016 11:04</td>\n",
       "      <td>15/08/2016 11:11</td>\n",
       "      <td>288</td>\n",
       "      <td>553</td>\n",
       "      <td>3</td>\n",
       "      <td>0.33</td>\n",
       "      <td>positive</td>\n",
       "    </tr>\n",
       "    <tr>\n",
       "      <th>3</th>\n",
       "      <td>10011</td>\n",
       "      <td>20/08/2016 22:42</td>\n",
       "      <td>20/08/2016 22:43</td>\n",
       "      <td>271</td>\n",
       "      <td>498</td>\n",
       "      <td>2</td>\n",
       "      <td>-0.33</td>\n",
       "      <td>negative</td>\n",
       "    </tr>\n",
       "    <tr>\n",
       "      <th>4</th>\n",
       "      <td>10141</td>\n",
       "      <td>25/08/2016 10:38</td>\n",
       "      <td>25/08/2016 11:27</td>\n",
       "      <td>585</td>\n",
       "      <td>89</td>\n",
       "      <td>1</td>\n",
       "      <td>-0.67</td>\n",
       "      <td>very negative</td>\n",
       "    </tr>\n",
       "  </tbody>\n",
       "</table>\n",
       "</div>"
      ],
      "text/plain": [
       "   user_id        message_ts         action_ts  recipe_a  recipe_b  score  \\\n",
       "0    10141  28/07/2016 15:22  28/07/2016 16:32       548       292      2   \n",
       "1    10163  11/08/2016 12:06  11/08/2016 12:08       584       288      1   \n",
       "2    10163  15/08/2016 11:04  15/08/2016 11:11       288       553      3   \n",
       "3    10011  20/08/2016 22:42  20/08/2016 22:43       271       498      2   \n",
       "4    10141  25/08/2016 10:38  25/08/2016 11:27       585        89      1   \n",
       "\n",
       "   scalar       response  \n",
       "0   -0.33       negative  \n",
       "1   -0.67  very negative  \n",
       "2    0.33       positive  \n",
       "3   -0.33       negative  \n",
       "4   -0.67  very negative  "
      ]
     },
     "execution_count": 6,
     "metadata": {},
     "output_type": "execute_result"
    }
   ],
   "source": [
    "similarity_scores.head(5)"
   ]
  },
  {
   "cell_type": "code",
   "execution_count": 7,
   "metadata": {},
   "outputs": [],
   "source": [
    "# Show an example of how scores will be affected by our weight rules.\n",
    "\n",
    "response_answer = [\"very negative\", \"negative\", \"combination not surveyed\", \"positive\", \"very positive\"]\n",
    "response_scalar = [-0.67,-0.33,1,0.33,0.67]\n",
    "\n",
    "# list of strings\n",
    "data = {'score': [0.99,0.9,0.8,0.7,0.6,0.5,0.4,0.3,0.2,0.1,0.01]\n",
    "        , 'very negative': [0.3267,\t0.297,0.264,0.231,0.198,0.165,0.132,0.099,0.066,0.033,0.0033]\n",
    "        , 'negative': [0.6633,0.603,0.536,0.469,0.402,0.335,0.268,0.201,0.134,0.067,0.0067]\n",
    "        , 'combination not surveyed': [0.99,0.9,0.8,0.7,0.6,0.5,0.4,0.3,0.2,0.1,0.01]\n",
    "        , 'positive': [0.9933,0.933,0.866,0.799,0.732,0.665,0.598,0.531,0.464,0.397,0.3367]\n",
    "        , 'very positive': [0.9967,0.967,0.934,0.901,0.868,0.835,0.802,0.769,0.736,0.703,0.6733]}\n",
    "\n",
    "df = pd.DataFrame(data)\n",
    "df.set_index('score', inplace=True)"
   ]
  },
  {
   "cell_type": "markdown",
   "metadata": {},
   "source": [
    "##### _Plotting arbitrary similarity scores against our 'weight' rules show how when the weights are applied, the relationship is linear but is programmed to increase/decrease by lots/not a lot depending on the scenario_ \n",
    "##### * _A given score for an unfeatured combination of recipes in the data is given a weight of 1 and therefore is not changed_\n",
    "##### * _Low scores that receive a high similarity measure increase sharply, and low scores that receieve a low similarity measure a marginally discounted_\n",
    "##### * _By comparison, high scores that receive a high similarity measure do not increase by much, while high scores that receieve a low similarity measure are massively re-weighted down_"
   ]
  },
  {
   "cell_type": "code",
   "execution_count": 8,
   "metadata": {},
   "outputs": [
    {
     "data": {
      "image/png": "[encoded data removed]",
      "text/plain": [
       "<Figure size 576x288 with 1 Axes>"
      ]
     },
     "metadata": {},
     "output_type": "display_data"
    }
   ],
   "source": [
    "plt.figure(figsize=(8,4))\n",
    "for i in range(len(df)):\n",
    "    plt.plot(df.iloc[i,:], label = df.index[i])\n",
    "    plt.legend(title=\"Score\", loc=4)\n",
    "    plt.xlabel('Gousto Survey Response Options'); plt.ylabel('Similarity Measure'); plt.title('Similarity Measure Weightings - expected behaviour');"
   ]
  },
  {
   "cell_type": "markdown",
   "metadata": {},
   "source": [
    "##### __Step 3:__ _Read in the RECIPE DESCRIPTION data as a pandas dataframe and clean as required_"
   ]
  },
  {
   "cell_type": "code",
   "execution_count": 9,
   "metadata": {},
   "outputs": [
    {
     "name": "stdout",
     "output_type": "stream",
     "text": [
      "recipe_id                 0\n",
      "country                   0\n",
      "country_secondary         0\n",
      "dish_category             8\n",
      "dish_type                 0\n",
      "diet_type                 0\n",
      "carbohydrate_base         0\n",
      "carbohydrate_category    30\n",
      "protein                  36\n",
      "protein_cut              19\n",
      "protein_type             36\n",
      "family_friendly           0\n",
      "spice_level               0\n",
      "prep_time                 0\n",
      "dtype: int64\n"
     ]
    }
   ],
   "source": [
    "# Check for empty values\n",
    "recipes = pd.read_csv('.../recipes_info.csv')\n",
    "print(recipes.isnull().sum())"
   ]
  },
  {
   "cell_type": "code",
   "execution_count": 10,
   "metadata": {},
   "outputs": [],
   "source": [
    "# Check for duplication\n",
    "recipes[recipes[\"recipe_id\"].isin(recipes[\"recipe_id\"][recipes[\"recipe_id\"].duplicated()])]\n",
    "\n",
    "# Remove selected rows (where prep_time is not a range)\n",
    "recipes = recipes.drop([26,73])"
   ]
  },
  {
   "cell_type": "code",
   "execution_count": 11,
   "metadata": {},
   "outputs": [],
   "source": [
    "# Classify null values as an object value outcome as 'none'\n",
    "recipes.fillna('none', inplace=True)"
   ]
  },
  {
   "cell_type": "code",
   "execution_count": 12,
   "metadata": {},
   "outputs": [],
   "source": [
    "# Code all responses of the column into the same 'case' format\n",
    "recipes['family_friendly'] = recipes['family_friendly'].str.lower()"
   ]
  },
  {
   "cell_type": "code",
   "execution_count": 13,
   "metadata": {},
   "outputs": [],
   "source": [
    "# Use a dictionary to 'tidy' other categorical data noticed on first inspection of the .csv file\n",
    "\n",
    "di = {# Remove duplications found\n",
    "      \"United States of America (USA)\": \"United States\"\n",
    "      \n",
    "      # Group 'prep times' into broader ranges for consistency of outcomes\n",
    "      , \"10\": \"10-14\"\n",
    "      , \"15\": \"15-19\"\n",
    "      , \"20\": \"20-24\"\n",
    "      , \"25\": \"25-29\"\n",
    "      , \"30\": \"30-34\"\n",
    "      , \"35\": \"35-39\"\n",
    "      , \"40\": \"40-44\"\n",
    "      , \"45\": \"45-49\"\n",
    "      , \"50\": \"50-54\"\n",
    "      , \"55\": \"55-59\"\n",
    "      , \"60\": \"60+\"}\n",
    "\n",
    "recipes.replace({\"country_secondary\": di\n",
    "                 , \"country\": di\n",
    "                 , \"prep_time\": di}, inplace=True)"
   ]
  },
  {
   "cell_type": "code",
   "execution_count": 14,
   "metadata": {},
   "outputs": [],
   "source": [
    "# Create a new column, that joins all the information together as 'text', excluding the recipe id, to later analyse\n",
    "recipes_string = recipes[recipes.columns[1:]].apply(lambda x: ','.join(x.astype(str)), axis=1)"
   ]
  },
  {
   "cell_type": "markdown",
   "metadata": {},
   "source": [
    "#### Solution 1: Count Vectorizer\n",
    "##### _A vector is returned with a length of the entire vocabulary and an integer count for the number of times each word appeared in the recipe string._"
   ]
  },
  {
   "cell_type": "code",
   "execution_count": 15,
   "metadata": {},
   "outputs": [],
   "source": [
    "# Create array to count the frequency of terms (columns) across each row (reciple id)\n",
    "count_vectorizer = CountVectorizer(stop_words='english')\n",
    "count_vectorizer = CountVectorizer()\n",
    "count_matrix = count_vectorizer.fit_transform(recipes_string)\n",
    "count_matrix = count_matrix.todense()"
   ]
  },
  {
   "cell_type": "code",
   "execution_count": 16,
   "metadata": {},
   "outputs": [],
   "source": [
    "# Display count results in a Pandas Dataframe, with all column datapoints as keyword columns and recipe id as the row index\n",
    "df = pd.DataFrame(count_matrix)\n",
    "df.reset_index(drop=True, inplace=True)\n",
    "df2 = recipes[['recipe_id']].reset_index(drop=True)\n",
    "df = pd.concat([df2,df],axis=1).set_index('recipe_id')"
   ]
  },
  {
   "cell_type": "code",
   "execution_count": 17,
   "metadata": {},
   "outputs": [
    {
     "name": "stdout",
     "output_type": "stream",
     "text": [
      "[[1.         0.07698004 0.48007936 ... 0.10954451 0.49135381 0.27529888]\n",
      " [0.07698004 1.         0.08399211 ... 0.07027284 0.21821789 0.26490647]\n",
      " [0.48007936 0.08399211 1.         ... 0.07968191 0.32991444 0.3003757 ]\n",
      " ...\n",
      " [0.10954451 0.07027284 0.07968191 ... 1.         0.24152295 0.12565617]\n",
      " [0.49135381 0.21821789 0.32991444 ... 0.24152295 1.         0.26013299]\n",
      " [0.27529888 0.26490647 0.3003757  ... 0.12565617 0.26013299 1.        ]]\n"
     ]
    }
   ],
   "source": [
    "# Calculate the Cosine Similarity as the objective measure for this solution style\n",
    "from sklearn.metrics.pairwise import cosine_similarity\n",
    "my_solution_1_matrix = cosine_similarity(df, df)\n",
    "print(my_solution_1_matrix)"
   ]
  },
  {
   "cell_type": "code",
   "execution_count": 18,
   "metadata": {},
   "outputs": [],
   "source": [
    "# Present as Recipe ID Cross-tab to show similarity values across all Pairwise combinations, publish as csv file\n",
    "my_solution_1 = pd.DataFrame(cosine_similarity(df, df), index=recipes['recipe_id'], columns=recipes['recipe_id'])"
   ]
  },
  {
   "cell_type": "code",
   "execution_count": 19,
   "metadata": {},
   "outputs": [
    {
     "data": {
      "text/html": [
       "<div>\n",
       "<style scoped>\n",
       "    .dataframe tbody tr th:only-of-type {\n",
       "        vertical-align: middle;\n",
       "    }\n",
       "\n",
       "    .dataframe tbody tr th {\n",
       "        vertical-align: top;\n",
       "    }\n",
       "\n",
       "    .dataframe thead th {\n",
       "        text-align: right;\n",
       "    }\n",
       "</style>\n",
       "<table border=\"1\" class=\"dataframe\">\n",
       "  <thead>\n",
       "    <tr style=\"text-align: right;\">\n",
       "      <th>recipe_id</th>\n",
       "      <th>2</th>\n",
       "      <th>5</th>\n",
       "      <th>9</th>\n",
       "      <th>16</th>\n",
       "      <th>19</th>\n",
       "      <th>...</th>\n",
       "      <th>1280</th>\n",
       "      <th>1281</th>\n",
       "      <th>1282</th>\n",
       "      <th>1283</th>\n",
       "      <th>1284</th>\n",
       "    </tr>\n",
       "    <tr>\n",
       "      <th>recipe_id</th>\n",
       "      <th></th>\n",
       "      <th></th>\n",
       "      <th></th>\n",
       "      <th></th>\n",
       "      <th></th>\n",
       "      <th></th>\n",
       "      <th></th>\n",
       "      <th></th>\n",
       "      <th></th>\n",
       "      <th></th>\n",
       "      <th></th>\n",
       "    </tr>\n",
       "  </thead>\n",
       "  <tbody>\n",
       "    <tr>\n",
       "      <th>2</th>\n",
       "      <td>1.000000</td>\n",
       "      <td>0.076980</td>\n",
       "      <td>0.480079</td>\n",
       "      <td>0.422116</td>\n",
       "      <td>0.188982</td>\n",
       "      <td>...</td>\n",
       "      <td>0.235339</td>\n",
       "      <td>0.482808</td>\n",
       "      <td>0.109545</td>\n",
       "      <td>0.491354</td>\n",
       "      <td>0.275299</td>\n",
       "    </tr>\n",
       "    <tr>\n",
       "      <th>5</th>\n",
       "      <td>0.076980</td>\n",
       "      <td>1.000000</td>\n",
       "      <td>0.083992</td>\n",
       "      <td>0.232104</td>\n",
       "      <td>0.181848</td>\n",
       "      <td>...</td>\n",
       "      <td>0.226455</td>\n",
       "      <td>0.250160</td>\n",
       "      <td>0.070273</td>\n",
       "      <td>0.218218</td>\n",
       "      <td>0.264906</td>\n",
       "    </tr>\n",
       "    <tr>\n",
       "      <th>9</th>\n",
       "      <td>0.480079</td>\n",
       "      <td>0.083992</td>\n",
       "      <td>1.000000</td>\n",
       "      <td>0.164488</td>\n",
       "      <td>0.164957</td>\n",
       "      <td>...</td>\n",
       "      <td>0.128388</td>\n",
       "      <td>0.202610</td>\n",
       "      <td>0.079682</td>\n",
       "      <td>0.329914</td>\n",
       "      <td>0.300376</td>\n",
       "    </tr>\n",
       "    <tr>\n",
       "      <th>16</th>\n",
       "      <td>0.422116</td>\n",
       "      <td>0.232104</td>\n",
       "      <td>0.164488</td>\n",
       "      <td>1.000000</td>\n",
       "      <td>0.227921</td>\n",
       "      <td>...</td>\n",
       "      <td>0.147828</td>\n",
       "      <td>0.363930</td>\n",
       "      <td>0.082572</td>\n",
       "      <td>0.256411</td>\n",
       "      <td>0.069171</td>\n",
       "    </tr>\n",
       "    <tr>\n",
       "      <th>19</th>\n",
       "      <td>0.188982</td>\n",
       "      <td>0.181848</td>\n",
       "      <td>0.164957</td>\n",
       "      <td>0.227921</td>\n",
       "      <td>1.000000</td>\n",
       "      <td>...</td>\n",
       "      <td>0.185312</td>\n",
       "      <td>0.070186</td>\n",
       "      <td>0.345033</td>\n",
       "      <td>0.321429</td>\n",
       "      <td>0.173422</td>\n",
       "    </tr>\n",
       "  </tbody>\n",
       "</table>\n",
       "<p>5 rows × 258 columns</p>\n",
       "</div>"
      ],
      "text/plain": [
       "recipe_id      2         5         9         16        19    ...      1280  \\\n",
       "recipe_id                                                    ...             \n",
       "2          1.000000  0.076980  0.480079  0.422116  0.188982  ...  0.235339   \n",
       "5          0.076980  1.000000  0.083992  0.232104  0.181848  ...  0.226455   \n",
       "9          0.480079  0.083992  1.000000  0.164488  0.164957  ...  0.128388   \n",
       "16         0.422116  0.232104  0.164488  1.000000  0.227921  ...  0.147828   \n",
       "19         0.188982  0.181848  0.164957  0.227921  1.000000  ...  0.185312   \n",
       "\n",
       "recipe_id      1281      1282      1283      1284  \n",
       "recipe_id                                          \n",
       "2          0.482808  0.109545  0.491354  0.275299  \n",
       "5          0.250160  0.070273  0.218218  0.264906  \n",
       "9          0.202610  0.079682  0.329914  0.300376  \n",
       "16         0.363930  0.082572  0.256411  0.069171  \n",
       "19         0.070186  0.345033  0.321429  0.173422  \n",
       "\n",
       "[5 rows x 258 columns]"
      ]
     },
     "execution_count": 19,
     "metadata": {},
     "output_type": "execute_result"
    }
   ],
   "source": [
    "my_solution_1.head(5)"
   ]
  },
  {
   "cell_type": "markdown",
   "metadata": {},
   "source": [
    "#### Solution 2: TFIDF Vectorizer\n",
    "##### _A vector is returned with a length of the entire vocabulary and an integer count for the number of times each word appeared in the recipe string, but with penalties for the same words appearing over our recipes. I thought this appropriate for 'repeated' data such as in the country and second country columns._"
   ]
  },
  {
   "cell_type": "code",
   "execution_count": 20,
   "metadata": {},
   "outputs": [],
   "source": [
    "tfidf_vectorizer = TfidfVectorizer(stop_words='english')\n",
    "tfidf_vectorizer = TfidfVectorizer()\n",
    "tfidf_matrix = tfidf_vectorizer.fit_transform(recipes_string)\n",
    "tfidf_matrix = tfidf_matrix.todense()"
   ]
  },
  {
   "cell_type": "code",
   "execution_count": 21,
   "metadata": {},
   "outputs": [],
   "source": [
    "# Display count results in a Pandas Dataframe, with all column datapoints as keyword columns and recipe id as the row index\n",
    "df = pd.DataFrame(tfidf_matrix)\n",
    "df.reset_index(drop=True, inplace=True)\n",
    "df2 = recipes[['recipe_id']].reset_index(drop=True)\n",
    "df = pd.concat([df2,df],axis=1).set_index('recipe_id')"
   ]
  },
  {
   "cell_type": "code",
   "execution_count": 22,
   "metadata": {},
   "outputs": [
    {
     "name": "stdout",
     "output_type": "stream",
     "text": [
      "[[1.         0.01181816 0.30567048 ... 0.01802823 0.23370453 0.08455922]\n",
      " [0.01181816 1.         0.02697093 ... 0.0334011  0.1588473  0.20606155]\n",
      " [0.30567048 0.02697093 1.         ... 0.02679348 0.12353481 0.11069277]\n",
      " ...\n",
      " [0.01802823 0.0334011  0.02679348 ... 1.         0.14475651 0.04719625]\n",
      " [0.23370453 0.1588473  0.12353481 ... 0.14475651 1.         0.08326819]\n",
      " [0.08455922 0.20606155 0.11069277 ... 0.04719625 0.08326819 1.        ]]\n"
     ]
    }
   ],
   "source": [
    "# Calculate the Cosine Similarity as the objective measure for this solution style\n",
    "my_solution_2_matrix = cosine_similarity(df, df)\n",
    "print(my_solution_2_matrix)"
   ]
  },
  {
   "cell_type": "code",
   "execution_count": 23,
   "metadata": {},
   "outputs": [],
   "source": [
    "# Present as Recipe ID Cross-tab to show similarity values across all Pairwise combinations, publish as csv file\n",
    "my_solution_2 = pd.DataFrame(cosine_similarity(df, df), index=recipes['recipe_id'], columns=recipes['recipe_id'])"
   ]
  },
  {
   "cell_type": "markdown",
   "metadata": {},
   "source": [
    "#### Solution 3: Hashing Vectorizer\n",
    "##### _Applies a hashing function to term frequency counts._"
   ]
  },
  {
   "cell_type": "code",
   "execution_count": 24,
   "metadata": {},
   "outputs": [],
   "source": [
    "hashing_vectorizer = HashingVectorizer()\n",
    "hashing_matrix = hashing_vectorizer.fit_transform(recipes_string)\n",
    "hashing_matrix = hashing_matrix.todense()"
   ]
  },
  {
   "cell_type": "code",
   "execution_count": 25,
   "metadata": {},
   "outputs": [],
   "source": [
    "# Display count results in a Pandas Dataframe, with all column datapoints as keyword columns and recipe id as the row index\n",
    "df = pd.DataFrame(hashing_matrix)\n",
    "df.reset_index(drop=True, inplace=True)\n",
    "df2 = recipes[['recipe_id']].reset_index(drop=True)\n",
    "df = pd.concat([df2,df],axis=1).set_index('recipe_id')"
   ]
  },
  {
   "cell_type": "code",
   "execution_count": 26,
   "metadata": {},
   "outputs": [
    {
     "name": "stdout",
     "output_type": "stream",
     "text": [
      "[[1.         0.07698004 0.48007936 ... 0.10954451 0.49135381 0.27529888]\n",
      " [0.07698004 1.         0.08399211 ... 0.07027284 0.21821789 0.26490647]\n",
      " [0.48007936 0.08399211 1.         ... 0.07968191 0.32991444 0.3003757 ]\n",
      " ...\n",
      " [0.10954451 0.07027284 0.07968191 ... 1.         0.24152295 0.12565617]\n",
      " [0.49135381 0.21821789 0.32991444 ... 0.24152295 1.         0.26013299]\n",
      " [0.27529888 0.26490647 0.3003757  ... 0.12565617 0.26013299 1.        ]]\n"
     ]
    }
   ],
   "source": [
    "# Calculate the Cosine Similarity as the objective measure for this solution style\n",
    "my_solution_3_matrix = cosine_similarity(df, df)\n",
    "print(my_solution_3_matrix)"
   ]
  },
  {
   "cell_type": "code",
   "execution_count": 27,
   "metadata": {},
   "outputs": [],
   "source": [
    "# Present as Recipe ID Cross-tab to show similarity values across all Pairwise combinations, publish as csv file\n",
    "my_solution_3 = pd.DataFrame(cosine_similarity(df, df), index=recipes['recipe_id'], columns=recipes['recipe_id'])"
   ]
  },
  {
   "cell_type": "markdown",
   "metadata": {},
   "source": [
    "##### _It seems solution 3 gave an identical answer to solution 1_ "
   ]
  },
  {
   "cell_type": "markdown",
   "metadata": {},
   "source": [
    "#### Final Solution: TFIDF Vectorizer with subjective similarity survey weights applied\n",
    "##### _This method seems a more appropriate one given the data and the assumption that we use all columns. It will penalise cases of repeated terms but also do the job of the count vectorizer._"
   ]
  },
  {
   "cell_type": "code",
   "execution_count": 28,
   "metadata": {},
   "outputs": [],
   "source": [
    "# Stack similarity matrix back into dataframe for further manipulation; rename indices and create 'key' for merging with subjective similarity scores dataset\n",
    "my_solution = my_solution_2\n",
    "my_solution.index.names = ['recipe_a']\n",
    "my_solution = my_solution.stack().reset_index(name='similarity_score')\n",
    "my_solution['key'] = my_solution[\"recipe_a\"].map(str) + '_' + my_solution[\"recipe_id\"].map(str)\n",
    "my_solution.rename({'recipe_id': 'recipe_b'}, axis=1, inplace=True)"
   ]
  },
  {
   "cell_type": "code",
   "execution_count": 29,
   "metadata": {},
   "outputs": [],
   "source": [
    "# Transform into the same format as our matrix for \n",
    "similarity_scores = similarity_scores.groupby(['recipe_a', 'recipe_b'])['scalar'].mean().reset_index()\n",
    "similarity_scores['key'] = similarity_scores[\"recipe_a\"].map(str) + '_' + similarity_scores[\"recipe_b\"].map(str)"
   ]
  },
  {
   "cell_type": "code",
   "execution_count": 30,
   "metadata": {},
   "outputs": [],
   "source": [
    "# Map 'responses' back onto 'average' values for our arbitrary weight numbers\n",
    "similarity_scores['weight'] = np.where((similarity_scores['scalar'] >= -0.67) & (similarity_scores['scalar'] < -0.33), 'very negative',\n",
    "                                         np.where((similarity_scores['scalar'] >= -0.33) & (similarity_scores['scalar'] < 0), 'negative',\n",
    "                                                  np.where((similarity_scores['scalar'] > 0) & (similarity_scores['scalar'] <= 0.33), 'positive',\n",
    "                                                           np.where((similarity_scores['scalar'] > 0.33) & (similarity_scores['scalar'] <= 0.66), 'very positive', 'not surveyed'))))"
   ]
  },
  {
   "cell_type": "code",
   "execution_count": 31,
   "metadata": {},
   "outputs": [],
   "source": [
    "# Join similarity matrix and similarity scores together, fill in missing combinations from similarity scores data with 'not surveyed'; tidy\n",
    "joined = pd.merge(my_solution, similarity_scores, on='key', how='left')\n",
    "joined['weight'].fillna('not surveyed', inplace=True)\n",
    "joined.drop(['recipe_a_y','recipe_b_y'], axis=1, inplace=True)\n",
    "joined.rename({'recipe_a_x': 'recipe_a','recipe_b_x': 'recipe_b'}, axis=1, inplace=True)"
   ]
  },
  {
   "cell_type": "code",
   "execution_count": 32,
   "metadata": {},
   "outputs": [],
   "source": [
    "# Re-map weights into the dataset to be used as scale factors for opinions on similar recipes\n",
    "applied_scalar = {'very negative' : -0.67, 'negative' : -0.33, 'positive' : 0.33, 'very positive' : 0.66}\n",
    "joined['applied_scalar'] = joined['weight'].map(applied_scalar)"
   ]
  },
  {
   "cell_type": "code",
   "execution_count": 33,
   "metadata": {},
   "outputs": [],
   "source": [
    "# Apply equations to re-weight scores where applicable\n",
    "joined['adjusted_similarity_score'] = np.where((joined['weight'] == 'very negative') | (joined['weight'] == 'negative'), joined['similarity_score'] + (joined['similarity_score'] * joined['applied_scalar']),\n",
    "                                      np.where((joined['weight'] == 'very positive') | (joined['weight'] == 'positive'), joined['similarity_score'] + (1-joined['similarity_score']) * joined['applied_scalar'], joined['similarity_score']))"
   ]
  },
  {
   "cell_type": "code",
   "execution_count": 34,
   "metadata": {},
   "outputs": [
    {
     "name": "stdout",
     "output_type": "stream",
     "text": [
      "[[1.   0.01 0.31 ... 0.02 0.23 0.08]\n",
      " [0.01 1.   0.03 ... 0.03 0.16 0.21]\n",
      " [0.31 0.03 1.   ... 0.03 0.12 0.11]\n",
      " ...\n",
      " [0.02 0.03 0.03 ... 1.   0.14 0.05]\n",
      " [0.23 0.16 0.12 ... 0.14 1.   0.08]\n",
      " [0.08 0.21 0.11 ... 0.05 0.08 1.  ]]\n"
     ]
    }
   ],
   "source": [
    "# Display results as crosstab\n",
    "final_similarity_scores = pd.crosstab(joined.recipe_a\n",
    "                                      , joined.recipe_b\n",
    "                                      , values=joined.adjusted_similarity_score\n",
    "                                      , aggfunc='max').round(2)\n",
    "\n",
    "final_similarity_scores = final_similarity_scores.values\n",
    "print(final_similarity_scores)"
   ]
  },
  {
   "cell_type": "code",
   "execution_count": 35,
   "metadata": {},
   "outputs": [],
   "source": [
    "my_solution = pd.DataFrame(final_similarity_scores, index=df2['recipe_id'], columns=df2['recipe_id'])\n",
    "my_solution.index.names = ['recipe_a']\n",
    "my_solution = my_solution.stack().reset_index(name='similarity_score')\n",
    "my_solution = my_solution.rename({'recipe_id': 'recipe_b'}, axis=1)"
   ]
  },
  {
   "cell_type": "code",
   "execution_count": 36,
   "metadata": {},
   "outputs": [
    {
     "data": {
      "text/html": [
       "<div>\n",
       "<style scoped>\n",
       "    .dataframe tbody tr th:only-of-type {\n",
       "        vertical-align: middle;\n",
       "    }\n",
       "\n",
       "    .dataframe tbody tr th {\n",
       "        vertical-align: top;\n",
       "    }\n",
       "\n",
       "    .dataframe thead th {\n",
       "        text-align: right;\n",
       "    }\n",
       "</style>\n",
       "<table border=\"1\" class=\"dataframe\">\n",
       "  <thead>\n",
       "    <tr style=\"text-align: right;\">\n",
       "      <th></th>\n",
       "      <th>recipe_a</th>\n",
       "      <th>recipe_b</th>\n",
       "      <th>similarity_score</th>\n",
       "    </tr>\n",
       "  </thead>\n",
       "  <tbody>\n",
       "    <tr>\n",
       "      <th>36791</th>\n",
       "      <td>526</td>\n",
       "      <td>555</td>\n",
       "      <td>0.97</td>\n",
       "    </tr>\n",
       "    <tr>\n",
       "      <th>66210</th>\n",
       "      <td>1283</td>\n",
       "      <td>577</td>\n",
       "      <td>0.97</td>\n",
       "    </tr>\n",
       "    <tr>\n",
       "      <th>42052</th>\n",
       "      <td>577</td>\n",
       "      <td>1283</td>\n",
       "      <td>0.97</td>\n",
       "    </tr>\n",
       "    <tr>\n",
       "      <th>52044</th>\n",
       "      <td>1098</td>\n",
       "      <td>945</td>\n",
       "      <td>0.96</td>\n",
       "    </tr>\n",
       "    <tr>\n",
       "      <th>48189</th>\n",
       "      <td>945</td>\n",
       "      <td>1098</td>\n",
       "      <td>0.96</td>\n",
       "    </tr>\n",
       "    <tr>\n",
       "      <th>43689</th>\n",
       "      <td>874</td>\n",
       "      <td>399</td>\n",
       "      <td>0.96</td>\n",
       "    </tr>\n",
       "    <tr>\n",
       "      <th>22615</th>\n",
       "      <td>399</td>\n",
       "      <td>874</td>\n",
       "      <td>0.96</td>\n",
       "    </tr>\n",
       "    <tr>\n",
       "      <th>36723</th>\n",
       "      <td>526</td>\n",
       "      <td>399</td>\n",
       "      <td>0.96</td>\n",
       "    </tr>\n",
       "    <tr>\n",
       "      <th>22588</th>\n",
       "      <td>399</td>\n",
       "      <td>526</td>\n",
       "      <td>0.96</td>\n",
       "    </tr>\n",
       "    <tr>\n",
       "      <th>42360</th>\n",
       "      <td>584</td>\n",
       "      <td>313</td>\n",
       "      <td>0.94</td>\n",
       "    </tr>\n",
       "  </tbody>\n",
       "</table>\n",
       "</div>"
      ],
      "text/plain": [
       "       recipe_a  recipe_b  similarity_score\n",
       "36791       526       555              0.97\n",
       "66210      1283       577              0.97\n",
       "42052       577      1283              0.97\n",
       "52044      1098       945              0.96\n",
       "48189       945      1098              0.96\n",
       "43689       874       399              0.96\n",
       "22615       399       874              0.96\n",
       "36723       526       399              0.96\n",
       "22588       399       526              0.96\n",
       "42360       584       313              0.94"
      ]
     },
     "execution_count": 36,
     "metadata": {},
     "output_type": "execute_result"
    }
   ],
   "source": [
    "# Top 10 most similar recipes\n",
    "my_solution = my_solution.sort_values(by='similarity_score', ascending=False)\n",
    "my_solution[my_solution['similarity_score'] != 1].head(10)"
   ]
  },
  {
   "cell_type": "code",
   "execution_count": 37,
   "metadata": {},
   "outputs": [],
   "source": [
    "# Derive a matrix that shows the largest movement of items between Vectorizer solution and influence of subjective similarity scores\n",
    "diff_solution = np.subtract(final_similarity_scores, my_solution_2_matrix)\n",
    "diff_solution = pd.DataFrame(diff_solution, index=df2['recipe_id'], columns=df2['recipe_id'])\n",
    "diff_solution.index.names = ['recipe_a']\n",
    "diff_solution = diff_solution.stack().reset_index(name='similarity_score')\n",
    "diff_solution = diff_solution.sort_values('similarity_score')\n",
    "diff_solution = diff_solution.rename({'recipe_id': 'recipe_b'}, axis=1)"
   ]
  },
  {
   "cell_type": "code",
   "execution_count": 38,
   "metadata": {},
   "outputs": [
    {
     "name": "stdout",
     "output_type": "stream",
     "text": [
      "       recipe_a  recipe_b  similarity_score\n",
      "39116       548       563         -0.463592\n",
      "31373       470       555         -0.438199\n",
      "38847       546       539         -0.412333\n",
      "36687       526       317         -0.357801\n",
      "13300       317       526         -0.357801\n",
      "10999       288       580         -0.338570\n",
      "9964        264       573         -0.337643\n",
      "12289       305       580         -0.327495\n",
      "42101       580       305         -0.327495\n",
      "42218       580       584         -0.318958\n"
     ]
    }
   ],
   "source": [
    "# Top 10 combinations that \n",
    "print(diff_solution.head(10))"
   ]
  },
  {
   "cell_type": "code",
   "execution_count": 39,
   "metadata": {},
   "outputs": [
    {
     "name": "stdout",
     "output_type": "stream",
     "text": [
      "       recipe_a  recipe_b  similarity_score\n",
      "19209       359       463          0.445624\n",
      "10590       285        89          0.459400\n",
      "3137         89       285          0.459400\n",
      "2485         57       580          0.491927\n",
      "30470       464       197          0.494759\n",
      "30608       464       584          0.511964\n",
      "42430       584       464          0.511964\n",
      "2592         58        89          0.587909\n",
      "37161       529        57          0.615515\n",
      "11212       292       464          0.650276\n"
     ]
    }
   ],
   "source": [
    "# Top 10 combinations that \n",
    "print(diff_solution.tail(10))"
   ]
  },
  {
   "cell_type": "markdown",
   "metadata": {},
   "source": [
    "#### __Production Code:__ Final Solution wrapper (without weights)"
   ]
  },
  {
   "cell_type": "code",
   "execution_count": 40,
   "metadata": {},
   "outputs": [],
   "source": [
    "class CLS_Recipe_Similarity(object):\n",
    "    \n",
    "    ### Load required libraries\n",
    "    import pandas as pd\n",
    "    import numpy as np\n",
    "    from sklearn.feature_extraction.text import CountVectorizer, TfidfVectorizer, HashingVectorizer\n",
    "    from matplotlib import pyplot as plt\n",
    "    \n",
    "    \"\"\"\n",
    "    Parameters\n",
    "    ----------    \n",
    "       * Analysis Method: Apply a Count, Tfidf or Hashing Vectorizer\n",
    "       * Dataframe: A list of recipes and their various attributes\n",
    "       * Corpus: A transformation of the dataframe into a 'sentence'\n",
    "       * ID Key: Primary Key of the data to summarise on\n",
    "       * Weights: A simple mathematical transformation of subjective scores\n",
    "\n",
    "    Return \n",
    "    ------\n",
    "    numpy_matrix of simlarity scores for a given text corpus\n",
    "    \"\"\"\n",
    "    \n",
    "    # Initialise class with preferred similarity measure\n",
    "    def __init__(self, analysis_method):\n",
    "        self.analysis_method = analysis_method\n",
    "    \n",
    "    # Print class similarity measure\n",
    "    def __repr__(self):\n",
    "        return \"Recipe Analysis Method Selected: \" '{}'.format(self.analysis_method)\n",
    "\n",
    "    # Transform dataframe into text corpus\n",
    "    def create_recipe_corpus(self, df):\n",
    "        corpus = df[df.columns[1:]].apply(lambda x: ','.join(x.astype(str)), axis=1)\n",
    "        return corpus       \n",
    "    \n",
    "    ### Transform corpus into raw similarity matrix\n",
    "    def raw_similarity_matrix(self, df, corpus, id_key):\n",
    "        \n",
    "        if self.analysis_method == 'Count':\n",
    "            vectorizer = CountVectorizer(stop_words='english')\n",
    "        \n",
    "        elif self.analysis_method == 'TFIDF':\n",
    "            vectorizer = TfidfVectorizer(stop_words='english')\n",
    "        \n",
    "        elif self.analysis_method == 'Hashing':\n",
    "            vectorizer = HashingVectorizer(stop_words='english')\n",
    "\n",
    "        matrix = vectorizer.fit_transform(corpus)\n",
    "        matrix = matrix.todense()\n",
    "\n",
    "        df_matrix = pd.DataFrame(matrix)\n",
    "        df_matrix = pd.concat([df[[id_key]], df_matrix], axis=1).set_index(id_key)\n",
    "\n",
    "        similarity_matrix = cosine_similarity(df_matrix, df_matrix)\n",
    "\n",
    "        return similarity_matrix\n",
    "    \n",
    "    ### Transform raw similarity matrix into weighted similarity matrix"
   ]
  },
  {
   "cell_type": "code",
   "execution_count": 41,
   "metadata": {},
   "outputs": [
    {
     "name": "stdout",
     "output_type": "stream",
     "text": [
      "Recipe Analysis Method Selected: TFIDF\n",
      "\n",
      "Raw Similarity Matrix: \n",
      "----------------------\n",
      "[[1.         0.         0.24518723 ... 0.00831713 0.20529246 0.05771647]\n",
      " [0.         1.         0.02414931 ... 0.02855636 0.1564317  0.21324391]\n",
      " [0.24518723 0.02414931 1.         ... 0.02336754 0.10400734 0.09736453]\n",
      " ...\n",
      " [0.00831713 0.02855636 0.02336754 ... 1.         0.13262437 0.01975253]\n",
      " [0.20529246 0.1564317  0.10400734 ... 0.13262437 1.         0.05474023]\n",
      " [0.05771647 0.21324391 0.09736453 ... 0.01975253 0.05474023 1.        ]]\n",
      "\n"
     ]
    }
   ],
   "source": [
    "### Load in dataset\n",
    "my_recipes = pd.read_csv('/data/h7836666/recipes_info.csv')\n",
    "my_scores = pd.read_csv('/data/h7836666/similarity_scores.csv')\n",
    "\n",
    "### Load and define Recipe Similarity Class, assign \n",
    "Recipe_Similarity = CLS_Recipe_Similarity(analysis_method = 'TFIDF')\n",
    "\n",
    "### Print class attributes\n",
    "print(Recipe_Similarity.__repr__())\n",
    "\n",
    "### Transform recipe dataframe into text corpus\n",
    "recipe_string = Recipe_Similarity.create_recipe_corpus(df = my_recipes)\n",
    "\n",
    "### Transform recipe corpus into similarity matrix\n",
    "raw_similarity_matrix = Recipe_Similarity.raw_similarity_matrix(df = my_recipes\n",
    "                                                                , corpus = recipe_string\n",
    "                                                                , id_key = 'recipe_id')\n",
    "### Publish output\n",
    "print('')\n",
    "print('Raw Similarity Matrix: ')\n",
    "print('----------------------')\n",
    "print(raw_similarity_matrix)\n",
    "print('')"
   ]
  },
  {
   "cell_type": "markdown",
   "metadata": {},
   "source": [
    "#### Final thoughts and Improvements:\n",
    "###### - Create more functions to avoid repitition of code\n",
    "###### - Incorporate 'weights' steps into class function\n",
    "###### - Subjective similarity scores contain instances of the same users giving different opinions on the same recipe combinations\n",
    "###### - Many of the recipe combinations aren't scored; a question of whether it fair to re-weight those recipe combinations from this data when most do not get the chance to be re-weighted"
   ]
  }
 ],
 "metadata": {
  "kernelspec": {
   "display_name": "Python 3",
   "language": "python",
   "name": "python3"
  },
  "language_info": {
   "codemirror_mode": {
    "name": "ipython",
    "version": 3
   },
   "file_extension": ".py",
   "mimetype": "text/x-python",
   "name": "python",
   "nbconvert_exporter": "python",
   "pygments_lexer": "ipython3",
   "version": "3.6.7"
  }
 },
 "nbformat": 4,
 "nbformat_minor": 2
}
